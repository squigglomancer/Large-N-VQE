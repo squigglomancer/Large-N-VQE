{
 "cells": [
  {
   "cell_type": "markdown",
   "id": "ef2696d1",
   "metadata": {},
   "source": [
    "# Adapt VQE\n",
    "\n",
    "The goal is to perform a variational preparation of the ground state of the large-N (1,2,1) Hamiltonian\n",
    "\n",
    "$$ H_E =  g^2 \\left( N_c - \\frac{1}{N_c} \\right)\\left[ \\sum_p  P_{1,p} - \\frac{1}{2}\\sum_p \\sum_{\\hat{n}} P_{1,p} P_{1,p+\\hat{n}} \\right] $$\n",
    "\n",
    "$$ H_B = -\\frac{1}{\\sqrt{2}g^2} \\sum_{p} \\left( \\prod_{\\hat{n}} P_{0,p+\\hat{n}} \\right) X_p - \\frac{1}{2g^2 N_c} \\sum_{p} \\sum_{\\hat{k}} P_{1,p+\\hat{k}} \\left( \\prod_{\\hat{n}\\neq\\hat{k}} P_{0,p+\\hat{n}} \\right) X_p $$\n",
    "\n",
    "where $P_0 = |0\\rangle\\langle 0|$ and $P_1 = |1\\rangle\\langle 1 |$, where the sum over $\\hat{n}$ is a sum over lattice unit vectors.\n",
    "\n",
    "The algorithm of choice will be ADAPT-VQE.\n",
    "\n",
    "### Operator pool\n",
    "\n",
    "The pool of operators is constrained by the symmetries of the ground state and the types of interactions in the Hamiltonian. With periodic boundary conditions, the Hamiltonian is translation invariant. In addition, we must respect CP symmetry and (as a result of CPT invariance) T symmetry. Because of T symmetry, the ground state wave function should be real. We will start with the most local operators, and add increasingly non-local operators until the ansatz is expressive enough to get errors below our tolerence.\n",
    "\n",
    "To start off with, the operator pool will be:\n",
    "\n",
    "$$ \\{ \"P_0 P_0 P_0 P_0 Y\", \"P_0 P_0 P_0 P_1 Y\" \\}. $$\n",
    "\n",
    "These operators in quotation marks are shorthand for the operators that make up the magnetic Hamiltonian, except with $X$ swapped out for $Y$ in order to make the wave function real. More operators can be added later if the performance is not good enough."
   ]
  },
  {
   "cell_type": "markdown",
   "id": "08a6187a",
   "metadata": {},
   "source": []
  },
  {
   "cell_type": "code",
   "execution_count": 2,
   "id": "62d7833b",
   "metadata": {},
   "outputs": [],
   "source": [
    "import numpy as np\n",
    "import scipy as sp\n",
    "from scipy import sparse\n",
    "import matplotlib.pyplot as plt\n",
    "import random"
   ]
  },
  {
   "cell_type": "markdown",
   "id": "7d2f12c6",
   "metadata": {},
   "source": [
    "## Code for creating the Hamiltonian"
   ]
  },
  {
   "cell_type": "markdown",
   "id": "8d46611f",
   "metadata": {},
   "source": [
    "Helper functions"
   ]
  },
  {
   "cell_type": "code",
   "execution_count": 3,
   "id": "b1613b89",
   "metadata": {},
   "outputs": [],
   "source": [
    "'''''''''''''''''''''''''''''''''''''''''''''''''''''''''''''''''''''''''''''''''''''''''''''''''''''''''''''''''\n",
    "Define functions that implements the operators in the Hamiltonian.\n",
    "Want to work with sparse matrices.\n",
    "'''''''''''''''''''''''''''''''''''''''''''''''''''''''''''''''''''''''''''''''''''''''''''''''''''''''''''''''''\n",
    "\n",
    "# Create the one-qubit operations\n",
    "Id =  sparse.csc_matrix(np.array([[1.,0.],[0.,1.]]))\n",
    "P1 = sparse.csc_matrix(np.array([[0., 0.],[0., 1.]]))\n",
    "P0 = sparse.csc_matrix(np.array([[1.,0.],[0.,0.]]))\n",
    "Xop = sparse.csc_matrix(np.array([[0.,1.],[1.,0.]]))\n",
    "Yop = sparse.csc_matrix(np.array([[0.,-1.j],[1.j,0.]]))\n",
    "\n",
    "\n",
    "'''''''''''''''''''''''''''''''''''''''''''''''''''''''''''''''''''''''''''''''''''''''''''''''''''''''''''''''''\n",
    "A function that acts with a one-qubit operator on a specified qubit. So, it takes in a 2x2 matrix and spits out a 2^n x 2^n matrix.\n",
    "'''''''''''''''''''''''''''''''''''''''''''''''''''''''''''''''''''''''''''''''''''''''''''''''''''''''''''''''''\n",
    "\n",
    "def one_qubit_gate( M: sparse._csc.csc_matrix, p: int, n: int) -> sparse._csc.csc_matrix:\n",
    "    if (M.shape != (2,2)):\n",
    "        print('Warning: Expected M argument to be a 2x2 sparse matrix.')\n",
    "    if ( p<0 or p>=n ):\n",
    "        print(f'Warning: Expected p argument to be within the range [0, {n}-1] inclusive.')\n",
    "\n",
    "    result = sparse.eye(1, format='csc') # create a sparse 1x1 matrix to store result\n",
    "    for i in range(n):\n",
    "        if (i==p):\n",
    "            result = sparse.kron(result, M, format='csc')\n",
    "        else:\n",
    "            result =sparse.kron(result, Id, format='csc')  \n",
    "    return result\n",
    "\n",
    "\n",
    "'''''''''''''''''''''''''''''''''''''''''''''''''''''''''''''''''''''''''''''''''''''''''''''''''''''''''''''''''\n",
    "    Define a function that returns an n-qubit gate that is in the form of a tensor product of single qubit gates.\n",
    "\n",
    "    Expects the dictionary op_dict to be of the form { p1: M1, p2: M2, p3: M3 } where the p's are integers specifying\n",
    "    qubits and the M's are 2x2 matrices in sparse format specifying one-qubit gates.\n",
    "'''''''''''''''''''''''''''''''''''''''''''''''''''''''''''''''''''''''''''''''''''''''''''''''''''''''''''''''''\n",
    "\n",
    "def multi_qubit_gate( op_dict: dict, n: int) -> sparse._csc.csc_matrix:\n",
    "    result = sparse.eye(1, format='csc') # Create a 1x1 in sparse format to build our operator\n",
    "    for i in range(n):\n",
    "        if i in op_dict:\n",
    "            result =sparse.kron(result, op_dict[i], format='csc')\n",
    "        else:\n",
    "            result =sparse.kron(result, Id, format='csc')\n",
    "    return result\n",
    "\n",
    "\n",
    "'''''''''''''''''''''''''''''''''''''''''''''''''''''''''''''''''''''''''''''''''''''''''''''''''''''''''''''''''\n",
    "Convert between the single-index p which enumerates qubits, and double-index (i,j) which enumerates lattice sites\n",
    "'''''''''''''''''''''''''''''''''''''''''''''''''''''''''''''''''''''''''''''''''''''''''''''''''''''''''''''''''\n",
    "\n",
    "def map_to_circuit( i, j, L, H ):\n",
    "    if i >= L:\n",
    "        print(f\"[map_to_circuit] i index out of bounds: expected i<{L}, but i={i}\")\n",
    "    if j >= H:\n",
    "        print(f\"[map_to_circuit] j index out of bounds, expected j<{H}, but j={j}\")\n",
    "    \n",
    "    return j*L + i\n",
    "\n",
    "\n",
    "def map_to_lattice( p, L, H ):\n",
    "    if p >= (L*H):\n",
    "        print(f\"[map_to_lattice] p index out of bounds, expected p<{L*H}, but p={p}\")\n",
    "\n",
    "    return p % L, p // L\n",
    "\n",
    "\n",
    "def get_neighbours( p, lat_shape, boundary='periodic' ):\n",
    "    L, H = lat_shape\n",
    "    i, j = map_to_lattice(p, L, H)\n",
    "    if boundary == 'periodic':\n",
    "        nl   = map_to_circuit((i - 1) % L, j, L, H)\n",
    "        nd   = map_to_circuit(i, (j - 1) % H, L, H)\n",
    "        nr   = map_to_circuit((i + 1) % L, j, L, H)\n",
    "        nu   = map_to_circuit(i, (j + 1) % H, L, H)\n",
    "        return nl, nd, nr, nu\n",
    "    elif boundary == 'open':\n",
    "        if i == 0:\n",
    "            nl = None\n",
    "        else:\n",
    "            nl = map_to_circuit(i - 1, j, L, H)\n",
    "        if j == 0:\n",
    "            nd = None\n",
    "        else:\n",
    "            nd = map_to_circuit(i, j - 1, L, H)\n",
    "        if i == L - 1:\n",
    "            nr = None\n",
    "        else:\n",
    "            nr = map_to_circuit(i + 1, j, L, H)\n",
    "        if j == H - 1:\n",
    "            nu = None\n",
    "        else:\n",
    "            nu = map_to_circuit(i, j + 1, L, H)\n",
    "        return nl, nd, nr, nu\n",
    "\n",
    "\n",
    "# A function that applies the specified operator to every qubit in the lattice, and then returns the resulting matrix\n",
    "def sigma(op_name, lat_shape, boundary='periodic'):\n",
    "    L = lat_shape[0]\n",
    "    H = lat_shape[1]\n",
    "    n = L*H\n",
    "\n",
    "    op = sparse.csc_matrix((2**n, 2**n))\n",
    "\n",
    "    if boundary == \"periodic\":\n",
    "\n",
    "        if op_name == \"P1\":\n",
    "            for p in range(n):\n",
    "                op += one_qubit_gate(P1, p, n)\n",
    "\n",
    "        elif op_name == \"P1P1\":\n",
    "            for p in range(n):\n",
    "                i, j = map_to_lattice(p, L, H)\n",
    "                nr   = map_to_circuit((i + 1) % L, j, L, H)\n",
    "                nu   = map_to_circuit(i, (j + 1) % H, L, H)\n",
    "                op = multi_qubit_gate( {p: P1, nr: P1}, n )\n",
    "                op+= multi_qubit_gate( {p: P1, nu: P1}, n )\n",
    "\n",
    "        elif op_name == \"P0P0P0P0X\":\n",
    "            for p in range(n):\n",
    "                nl, nd, nr, nu = get_neighbours(p, lat_shape)\n",
    "                op += multi_qubit_gate( {p: Xop, nl: P0, nd: P0, nr: P0, nu: P0}, n )\n",
    "\n",
    "        elif op_name == \"P0P0P0P1X\":\n",
    "            for p in range(n):\n",
    "                nl, nd, nr, nu = get_neighbours(p, lat_shape)\n",
    "                op += multi_qubit_gate( {p: Xop, nl: P1, nd: P0, nr: P0, nu: P0}, n )\n",
    "                op += multi_qubit_gate( {p: Xop, nl: P0, nd: P1, nr: P0, nu: P0}, n )\n",
    "                op += multi_qubit_gate( {p: Xop, nl: P0, nd: P0, nr: P1, nu: P0}, n )\n",
    "                op += multi_qubit_gate( {p: Xop, nl: P0, nd: P0, nr: P0, nu: P1}, n )\n",
    "        \n",
    "        elif op_name == \"P0P0P0P0Y\":\n",
    "            for p in range(n):\n",
    "                nl, nd, nr, nu = get_neighbours(p, lat_shape)\n",
    "                op += multi_qubit_gate( {p: Yop, nl: P0, nd: P0, nr: P0, nu: P0}, n )\n",
    "        \n",
    "        elif op_name == \"P0P0P0P1Y\":\n",
    "            for p in range(n):\n",
    "                nl, nd, nr, nu = get_neighbours(p, lat_shape)\n",
    "                op += multi_qubit_gate( {p: Yop, nl: P1, nd: P0, nr: P0, nu: P0}, n )\n",
    "                op += multi_qubit_gate( {p: Yop, nl: P0, nd: P1, nr: P0, nu: P0}, n )\n",
    "                op += multi_qubit_gate( {p: Yop, nl: P0, nd: P0, nr: P1, nu: P0}, n )\n",
    "                op += multi_qubit_gate( {p: Yop, nl: P0, nd: P0, nr: P0, nu: P1}, n )\n",
    "        else:\n",
    "            raise ValueError(f\"Unknown operator name: {op_name}\")\n",
    "    \n",
    "    elif boundary == \"open\":\n",
    "        raise NotImplementedError(\"Open boundary conditions not implemented yet.\")\n",
    "    \n",
    "    return op\n"
   ]
  },
  {
   "cell_type": "markdown",
   "id": "9fd985b2",
   "metadata": {},
   "source": [
    "Functions for creating the Hamiltonian"
   ]
  },
  {
   "cell_type": "code",
   "execution_count": 4,
   "id": "7f98e135",
   "metadata": {},
   "outputs": [],
   "source": [
    "''''''''''''''''''''''''''''''''''''''''''''''''''''''''''''''''''''''''''''''''''''''''''''''''''''''''''''''''' \n",
    "Create a function that produces the Hamiltonian matrix\n",
    "'''''''''''''''''''''''''''''''''''''''''''''''''''''''''''''''''''''''''''''''''''''''''''''''''''''''''''''''''\n",
    "\n",
    "def make_electric_ham(g: float, lat_shape: list, boundary: str = 'periodic', N_colors: int = 3 ) -> sparse._csc.csc_matrix:\n",
    "    H_E = sigma('P1', lat_shape, boundary)\n",
    "    H_E -= 0.5 * sigma('P1P1', lat_shape, boundary)\n",
    "    return (N_colors - 1/N_colors)*g*g * H_E\n",
    "\n",
    "\n",
    "def make_magnetic_ham( g: float, lat_shape: tuple, boundary='periodic', N_colors: int = 3) -> sparse._csc.csc_matrix:\n",
    "    coeff1 = -np.sqrt(2)/(2*g*g)\n",
    "    coeff2 = -1/(2*g*g*N_colors)\n",
    "    H_B1 = sigma('P0P0P0P0X', lat_shape, boundary)\n",
    "    H_B2 = sigma('P0P0P0P1X', lat_shape, boundary)\n",
    "    return coeff1 * H_B1  +   coeff2 * H_B2\n",
    "\n",
    "\n",
    "def make_ham(g: float, lat_shape: tuple, boundary: str ='periodic', N_colors: int =3 ) -> sparse._csc.csc_matrix:\n",
    "    HE = make_electric_ham(g, lat_shape, boundary, N_colors)\n",
    "    HB = make_magnetic_ham(g, lat_shape, boundary, N_colors)\n",
    "    return HE + HB\n",
    "\n",
    "\n",
    "def get_ground_state_energy(g, lat_shape, boundary='periodic', N_colors=3):\n",
    "    H = make_ham(g, lat_shape, boundary, N_colors)\n",
    "    evals, evecs = sparse.linalg.eigsh( H, which='SA', k=1)\n",
    "    return evals[0]\n",
    "\n",
    "def get_ground_state(g, lat_shape, boundary='periodic', N_colors=3):\n",
    "    H = make_ham(g, lat_shape, boundary, N_colors)\n",
    "    _, evecs = sparse.linalg.eigsh( H, which='SA', k=1)\n",
    "    return evecs[:,0] / np.linalg.norm(evecs[:,0]) # Normalize the ground state vector\n"
   ]
  },
  {
   "cell_type": "markdown",
   "id": "9778198a",
   "metadata": {},
   "source": [
    "## Ground state prep\n",
    "\n",
    "Walk through the steps and do a sanity check"
   ]
  },
  {
   "cell_type": "code",
   "execution_count": 5,
   "id": "76605675",
   "metadata": {},
   "outputs": [],
   "source": [
    "def get_operator_pool(op_names, lat_shape, boundary=\"periodic\"):\n",
    "    op_pool = [sigma(op_name, lat_shape, boundary) for op_name in op_names]\n",
    "    return op_pool"
   ]
  },
  {
   "cell_type": "code",
   "execution_count": 6,
   "id": "a4cd82df",
   "metadata": {},
   "outputs": [],
   "source": [
    "g = 1.\n",
    "lat_shape = (3,3)\n",
    "boundary = 'periodic'\n",
    "\n",
    "op_names = ['P0P0P0P0Y', 'P0P0P0P1Y']"
   ]
  },
  {
   "cell_type": "code",
   "execution_count": 7,
   "id": "b40a685e",
   "metadata": {},
   "outputs": [],
   "source": [
    "operator_pool = get_operator_pool(op_names, lat_shape, boundary)"
   ]
  },
  {
   "cell_type": "code",
   "execution_count": 8,
   "id": "6815439c",
   "metadata": {},
   "outputs": [],
   "source": [
    "imag_operator_pool = [op.imag for op in operator_pool]"
   ]
  },
  {
   "cell_type": "code",
   "execution_count": 9,
   "id": "ddf97920",
   "metadata": {},
   "outputs": [],
   "source": [
    "H = make_ham(g, lat_shape)\n",
    "H = H.real"
   ]
  },
  {
   "cell_type": "code",
   "execution_count": 10,
   "id": "0fe85539",
   "metadata": {},
   "outputs": [],
   "source": [
    "commutator_pool = [-(H @ op - op @ H) for op in imag_operator_pool]"
   ]
  },
  {
   "cell_type": "code",
   "execution_count": 11,
   "id": "a02df5fe",
   "metadata": {},
   "outputs": [],
   "source": [
    "def construct_electric_vac(lat_shape):\n",
    "    n = lat_shape[0]*lat_shape[1]\n",
    "    return sparse.csc_matrix( ([1] + [0]*(2**n - 1)) ).T"
   ]
  },
  {
   "cell_type": "code",
   "execution_count": 12,
   "id": "b8497dc5",
   "metadata": {},
   "outputs": [],
   "source": [
    "electric_vac = construct_electric_vac(lat_shape)"
   ]
  },
  {
   "cell_type": "code",
   "execution_count": 13,
   "id": "2e686c70",
   "metadata": {},
   "outputs": [],
   "source": [
    "def expectation_value(state, op):\n",
    "    return (state.T.conj() @ (op @ state)).sum().real"
   ]
  },
  {
   "cell_type": "code",
   "execution_count": 14,
   "id": "263470c2",
   "metadata": {},
   "outputs": [],
   "source": [
    "ips = np.array([expectation_value(electric_vac, op) for op in commutator_pool])"
   ]
  },
  {
   "cell_type": "code",
   "execution_count": 15,
   "id": "55db8392",
   "metadata": {},
   "outputs": [],
   "source": [
    "min_op = imag_operator_pool[random.choice(np.where(ips == np.max(np.abs(ips)))[0])] "
   ]
  },
  {
   "cell_type": "code",
   "execution_count": 16,
   "id": "c1422a8a",
   "metadata": {},
   "outputs": [],
   "source": [
    "eps_vals = np.linspace(0, 1, 100)\n",
    "energies = []\n",
    "\n",
    "for i, eps in enumerate(eps_vals):\n",
    "    U = sp.sparse.linalg.expm( min_op * eps )\n",
    "    new_state = U @ electric_vac\n",
    "    energies.append( expectation_value(new_state, H) )"
   ]
  },
  {
   "cell_type": "code",
   "execution_count": 17,
   "id": "7de61a1c",
   "metadata": {},
   "outputs": [
    {
     "data": {
      "text/plain": [
       "[<matplotlib.lines.Line2D at 0x7f85313dbaf0>]"
      ]
     },
     "execution_count": 17,
     "metadata": {},
     "output_type": "execute_result"
    },
    {
     "data": {
      "image/png": "[encoded data removed]",
      "text/plain": [
       "<Figure size 640x480 with 1 Axes>"
      ]
     },
     "metadata": {},
     "output_type": "display_data"
    }
   ],
   "source": [
    "# plot the energies\n",
    "plt.plot(eps_vals, energies)"
   ]
  },
  {
   "cell_type": "code",
   "execution_count": 18,
   "id": "9de6d495",
   "metadata": {},
   "outputs": [],
   "source": [
    "def objective_function(eps):\n",
    "    U = sp.sparse.linalg.expm( min_op * eps[0] )\n",
    "    new_state = U @ electric_vac\n",
    "    return expectation_value(new_state, H)\n",
    "\n",
    "eps0 = [0]\n",
    "\n",
    "sol = sp.optimize.minimize(objective_function, eps0)"
   ]
  },
  {
   "cell_type": "code",
   "execution_count": 19,
   "id": "b0ce1620",
   "metadata": {},
   "outputs": [
    {
     "data": {
      "text/plain": [
       "      fun: -1.32997004332702\n",
       " hess_inv: array([[0.01402744]])\n",
       "      jac: array([-4.47034836e-08])\n",
       "  message: 'Optimization terminated successfully.'\n",
       "     nfev: 12\n",
       "      nit: 4\n",
       "     njev: 6\n",
       "   status: 0\n",
       "  success: True\n",
       "        x: array([0.19690845])"
      ]
     },
     "execution_count": 19,
     "metadata": {},
     "output_type": "execute_result"
    }
   ],
   "source": [
    "sol"
   ]
  },
  {
   "cell_type": "markdown",
   "id": "6bd502be",
   "metadata": {},
   "source": [
    "## ADAPT-VQE Algorithm"
   ]
  },
  {
   "cell_type": "markdown",
   "id": "6af76cba",
   "metadata": {},
   "source": [
    "Compactify the process into one function"
   ]
  },
  {
   "cell_type": "code",
   "execution_count": 20,
   "id": "e8b5ce8f",
   "metadata": {},
   "outputs": [],
   "source": [
    "'''Helper functions'''\n",
    "\n",
    "\n",
    "# These ones only require lattice size information\n",
    "\n",
    "def get_operator_pool(op_names, lat_shape, boundary=\"periodic\"):\n",
    "    op_pool = [sigma(op_name, lat_shape, boundary) for op_name in op_names]\n",
    "    return op_pool\n",
    "\n",
    "def get_imag_operator_pool(op_names, lat_shape, boundary=\"periodic\"):\n",
    "    operator_pool = get_operator_pool(op_names, lat_shape, boundary)\n",
    "    return [op.imag for op in operator_pool]\n",
    "\n",
    "def construct_electric_vac(lat_shape):\n",
    "    n = lat_shape[0]*lat_shape[1]\n",
    "    return sparse.csc_matrix( ([1] + [0]*(2**n - 1)) ).T\n",
    "\n",
    "def expectation_value(state, op):\n",
    "    return (state.T.conj() @ (op @ state)).sum().real\n",
    "\n",
    "# These ones require the coupling / hamiltonian\n",
    "\n",
    "def get_commutator_pool(H, imag_operator_pool):\n",
    "    return [-(H @ op - op @ H) for op in imag_operator_pool]\n"
   ]
  },
  {
   "cell_type": "code",
   "execution_count": 21,
   "id": "d499c297",
   "metadata": {},
   "outputs": [],
   "source": [
    "def opt_step(psi_prev, epss_prev, indices_prev, H, lat_shape, commutator_pool, psi_0, imag_operator_pool):\n",
    "    n = lat_shape[0]*lat_shape[1]\n",
    "\n",
    "    ips = np.array([expectation_value(psi_prev, op) for op in commutator_pool])\n",
    "    min_index = random.choice(np.where(ips == np.max(np.abs(ips)))[0])\n",
    "    new_indices = np.append( indices_prev.astype(int), int(min_index) )\n",
    "    new_epss = np.append(epss_prev, 0.01)\n",
    "\n",
    "    def ansatz(epss):\n",
    "        U = sp.sparse.eye(2**n, format=\"csc\")\n",
    "        for eps, idx in zip(epss, new_indices):\n",
    "            U = sp.sparse.linalg.expm( eps * imag_operator_pool[idx]) @ U\n",
    "        return U @ psi_0\n",
    "    \n",
    "    def objective_ev(epss):\n",
    "        new_state = ansatz(epss)\n",
    "        return expectation_value(new_state, H)\n",
    "    \n",
    "    sol = sp.optimize.minimize(objective_ev, new_epss)\n",
    "    opt_epss = sol[\"x\"]\n",
    "    new_energy = sol[\"fun\"]\n",
    "    new_state = ansatz(opt_epss)\n",
    "\n",
    "    return new_indices, new_state, opt_epss, new_energy"
   ]
  },
  {
   "cell_type": "code",
   "execution_count": 22,
   "id": "d13dceab",
   "metadata": {},
   "outputs": [],
   "source": [
    "def adapt_vqe(g, lat_shape, boundary=\"periodic\", N_colors=3, op_pool_names=[\"P0P0P0P0Y\", \"P0P0P0P1Y\"], delta_E=0.0001):\n",
    "\n",
    "    H = make_ham(g, lat_shape, boundary, N_colors)\n",
    "    imag_operator_pool = get_imag_operator_pool(op_pool_names, lat_shape, boundary)\n",
    "    commutator_pool = get_commutator_pool(H, imag_operator_pool)\n",
    "\n",
    "    # store results\n",
    "    psi_0 = construct_electric_vac(lat_shape)\n",
    "    epss = []\n",
    "    indices = []\n",
    "    energies = []\n",
    "\n",
    "    # use in loop\n",
    "    new_state = psi_0\n",
    "    opt_epss = np.array(epss)\n",
    "    new_indices = np.array(indices)\n",
    "\n",
    "    while True:\n",
    "        new_indices, new_state, opt_epss, new_energy = opt_step(new_state, opt_epss, new_indices, H, lat_shape, commutator_pool, psi_0, imag_operator_pool)\n",
    "        indices.append( new_indices[-1] )\n",
    "        epss.append( opt_epss )\n",
    "        energies.append( new_energy )\n",
    "        if len(energies) > 2 and abs(energies[-1] - energies[-2]) <= delta_E:\n",
    "            break\n",
    "    \n",
    "    return energies, indices, epss, new_state"
   ]
  },
  {
   "cell_type": "markdown",
   "id": "17a4fab7",
   "metadata": {},
   "source": [
    "Example usage:"
   ]
  },
  {
   "cell_type": "code",
   "execution_count": 23,
   "id": "9ae73f67",
   "metadata": {},
   "outputs": [],
   "source": [
    "'''\n",
    "input data\n",
    "'''\n",
    "g = 1.1\n",
    "lat_shape = (3,3)\n",
    "boundary=\"periodic\"\n",
    "N_colors = 3\n",
    "\n",
    "\n",
    "'''\n",
    "hyper-parameters\n",
    "'''\n",
    "op_pool =[\"P0P0P0P0Y\", \"P0P0P0P1Y\"]\n",
    "delta_E = 0.01\n",
    "\n",
    "\n",
    "energies, indices, epss, new_state = adapt_vqe(g, lat_shape, boundary, N_colors, op_pool, delta_E)"
   ]
  },
  {
   "cell_type": "code",
   "execution_count": 24,
   "id": "e64bca10",
   "metadata": {},
   "outputs": [
    {
     "data": {
      "text/plain": [
       "0.9999860422578627"
      ]
     },
     "execution_count": 24,
     "metadata": {},
     "output_type": "execute_result"
    }
   ],
   "source": [
    "ground_state = get_ground_state(g, lat_shape, boundary, N_colors)\n",
    "\n",
    "def fidelity(psi, phi):\n",
    "    return np.abs( (psi.T.conj() @ phi).sum() )**2\n",
    "\n",
    "fidelity(new_state, ground_state)"
   ]
  },
  {
   "cell_type": "code",
   "execution_count": 25,
   "id": "c2b7107b",
   "metadata": {},
   "outputs": [
    {
     "data": {
      "text/plain": [
       "9.64847793308854e-05"
      ]
     },
     "execution_count": 25,
     "metadata": {},
     "output_type": "execute_result"
    }
   ],
   "source": [
    "energies[-1] - get_ground_state_energy(g, lat_shape)"
   ]
  },
  {
   "cell_type": "markdown",
   "id": "8634f378",
   "metadata": {},
   "source": [
    "## Trotterized Ansatz\n",
    "\n",
    "In its current form, the ansatz is not quantum hardware implementable, and it is also quite costly on a classical computer (beyond the inherent exponentially bad scaling that is.) These problems are ameliorated by trotterizing the operators that generate the ansatz:\n",
    "\n",
    "$$ \\exp\\bigg(i \\varepsilon \\sum_p \\mathcal{O}_p \\bigg) \\longmapsto \\prod_p \\exp(i \\varepsilon \\mathcal{O}_p) + O(\\varepsilon^2) $$\n",
    "\n",
    "The trotterization can be made two-site translation invariant by grouping the product by even and odd sites. In addition, for the operators we are using (of the form $PY$ where $P$ is a projection operator $P^2=P$ that acts on up to four qubits), we have the identity\n",
    "\n",
    "$$ \\exp(i Y_p P) = \\exp(i Y_p) P + (1 - P) $$\n",
    "\n",
    "which lets us prepare the sparse operator $\\exp(i Y_p P)$ in an efficient way.\n"
   ]
  },
  {
   "cell_type": "markdown",
   "id": "fef6ab19",
   "metadata": {},
   "source": []
  },
  {
   "cell_type": "code",
   "execution_count": 26,
   "id": "a0f94a69",
   "metadata": {},
   "outputs": [],
   "source": [
    "def make_U_trotterized(eps, op_name, lat_shape):\n",
    "    n = lat_shape[0]*lat_shape[1]\n",
    "    RY = np.cos(eps)*Id + 1j*np.sin(eps)*Yop\n",
    "    U = sparse.eye(2**n, format=\"csc\")\n",
    "    \n",
    "    if op_name == \"P0P0P0P0Y\":\n",
    "        for p in range(n):\n",
    "            nl, nd, nr, nu = get_neighbours(p, lat_shape)\n",
    "            P = multi_qubit_gate({nl: P0, nr: P0, nu: P0, nd: P0}, n)\n",
    "            trotter_step = one_qubit_gate( RY, p, n )@P + (sp.sparse.eye(2**n, format='csc') - P)\n",
    "            U = trotter_step @ U\n",
    "    \n",
    "    elif op_name == \"P0P0P0P1Y\":\n",
    "        for p in range(n):\n",
    "            nl, nd, nr, nu = get_neighbours(p, lat_shape)\n",
    "            P =  multi_qubit_gate({nl: P1, nr: P0, nu: P0, nd: P0}, n)\n",
    "            P += multi_qubit_gate({nl: P0, nr: P1, nu: P0, nd: P0}, n)\n",
    "            P += multi_qubit_gate({nl: P0, nr: P0, nu: P1, nd: P0}, n)\n",
    "            P += multi_qubit_gate({nl: P0, nr: P0, nu: P0, nd: P1}, n)\n",
    "            trotter_step = one_qubit_gate( RY, p, n )@P + (sp.sparse.eye(2**n, format='csc') - P)\n",
    "            U = trotter_step @ U\n",
    "    else:\n",
    "        raise ValueError(f\"Unknown operator name: {op_name}\")\n",
    "    \n",
    "    return U\n"
   ]
  },
  {
   "cell_type": "code",
   "execution_count": 27,
   "id": "0a2f6973",
   "metadata": {},
   "outputs": [],
   "source": [
    "def opt_step_trotterized(psi_prev, epss_prev, indices_prev, H, lat_shape, commutator_pool, psi_0, op_pool_names):\n",
    "    n = lat_shape[0]*lat_shape[1]\n",
    "    ips = np.array([expectation_value(psi_prev, op) for op in commutator_pool])\n",
    "    min_index = random.choice(np.where(ips == np.max(np.abs(ips)))[0])\n",
    "    new_indices = np.append( indices_prev.astype(int), int(min_index) )\n",
    "    new_epss = np.append(epss_prev, 0.01)\n",
    "\n",
    "    def ansatz(epss):\n",
    "        U = sp.sparse.eye(2**n, format=\"csc\")\n",
    "        for eps, idx in zip(epss, new_indices):\n",
    "            U = make_U_trotterized(eps, op_pool_names[idx], lat_shape) @ U\n",
    "        return U @ psi_0\n",
    "    \n",
    "    def objective_ev(epss):\n",
    "        new_state = ansatz(epss)\n",
    "        return expectation_value(new_state, H)\n",
    "    \n",
    "    sol = sp.optimize.minimize(objective_ev, new_epss)\n",
    "    opt_epss = sol[\"x\"]\n",
    "    new_energy = sol[\"fun\"]\n",
    "    new_state = ansatz(opt_epss)\n",
    "\n",
    "    return new_indices, new_state, opt_epss, new_energy"
   ]
  },
  {
   "cell_type": "code",
   "execution_count": 28,
   "id": "1ce9c0fd",
   "metadata": {},
   "outputs": [],
   "source": [
    "def adapt_vqe_trotterized(g, lat_shape, boundary=\"periodic\", N_colors=3, op_pool_names=[\"P0P0P0P0Y\", \"P0P0P0P1Y\"], delta_E=0.0001):\n",
    "\n",
    "    H = make_ham(g, lat_shape, boundary, N_colors)\n",
    "    imag_operator_pool = get_imag_operator_pool(op_pool_names, lat_shape, boundary)\n",
    "    commutator_pool = get_commutator_pool(H, imag_operator_pool)\n",
    "\n",
    "    # store results\n",
    "    psi_0 = construct_electric_vac(lat_shape)\n",
    "    epss = []\n",
    "    indices = []\n",
    "    energies = []\n",
    "\n",
    "    # use in loop\n",
    "    new_state = psi_0\n",
    "    opt_epss = np.array(epss)\n",
    "    new_indices = np.array(indices)\n",
    "\n",
    "    while True:\n",
    "        new_indices, new_state, opt_epss, new_energy = opt_step_trotterized(new_state, opt_epss, new_indices, H, lat_shape, commutator_pool, psi_0, op_pool_names)\n",
    "        indices.append( new_indices[-1] )\n",
    "        epss.append( opt_epss )\n",
    "        energies.append( new_energy )\n",
    "        if len(energies) > 2 and abs(energies[-1] - energies[-2]) <= delta_E:\n",
    "            break\n",
    "    \n",
    "    return energies, indices, epss, new_state"
   ]
  },
  {
   "cell_type": "code",
   "execution_count": null,
   "id": "7fbd9db1",
   "metadata": {},
   "outputs": [],
   "source": [
    "'''\n",
    "input data\n",
    "'''\n",
    "g = 1.1\n",
    "lat_shape = (3,5)\n",
    "boundary=\"periodic\"\n",
    "N_colors = 3\n",
    "\n",
    "\n",
    "'''\n",
    "hyper-parameters\n",
    "'''\n",
    "op_pool =[\"P0P0P0P0Y\", \"P0P0P0P1Y\"]\n",
    "delta_E = 0.01\n",
    "\n",
    "\n",
    "energies, indices, epss, new_state = adapt_vqe_trotterized(g, lat_shape, boundary, N_colors, op_pool, delta_E)"
   ]
  },
  {
   "cell_type": "code",
   "execution_count": 30,
   "id": "358f62cc",
   "metadata": {},
   "outputs": [
    {
     "data": {
      "text/plain": [
       "0.9999688959384956"
      ]
     },
     "execution_count": 30,
     "metadata": {},
     "output_type": "execute_result"
    }
   ],
   "source": [
    "ground_state = get_ground_state(g, lat_shape, boundary, N_colors)\n",
    "\n",
    "def fidelity(psi, phi):\n",
    "    return np.abs( (psi.T.conj() @ phi).sum() )**2\n",
    "\n",
    "fidelity(new_state, ground_state)"
   ]
  },
  {
   "cell_type": "code",
   "execution_count": 31,
   "id": "7e7e1e21",
   "metadata": {},
   "outputs": [
    {
     "data": {
      "text/plain": [
       "0.0001875163680611358"
      ]
     },
     "execution_count": 31,
     "metadata": {},
     "output_type": "execute_result"
    }
   ],
   "source": [
    "true_energy = get_ground_state_energy(g, lat_shape, boundary, N_colors)\n",
    "\n",
    "energies[-1] - true_energy"
   ]
  },
  {
   "cell_type": "markdown",
   "id": "a8eea534",
   "metadata": {},
   "source": [
    "## Precompute a dictionary of all physical and unphysical states\n",
    "\n",
    "The code-snippet below will load the file (by default named ```is_physical_dict.pkl```) into the variable ```is_physical_dict```, or, if the file does not yet exist, it creates the file and populates it with data.\n",
    "\n",
    "Also includes the function ```is_physical_state_from_vector( np_array, lat_shape )``` to determine whether a general state is physical or not."
   ]
  },
  {
   "cell_type": "code",
   "execution_count": 32,
   "id": "7c2b25c3",
   "metadata": {},
   "outputs": [],
   "source": [
    "def is_physical_state( binary_str, lat_shape ):\n",
    "    # Convert the binary string into a binary array\n",
    "    binary_array = binary_array_from_list( binary_str, lat_shape )\n",
    "\n",
    "    arr_shape = (lat_shape[1], lat_shape[0])\n",
    "\n",
    "    # Loop through the binary array and find all the clusters of 1's\n",
    "    clusters = []\n",
    "    visited = np.zeros_like(binary_array, dtype=bool)\n",
    "    for i in range(arr_shape[0]):\n",
    "        for j in range(arr_shape[1]):\n",
    "            if binary_array[i, j] == 1 and not visited[i, j]:\n",
    "                # Start a new cluster\n",
    "                cluster = []\n",
    "                stack = [(i, j)]\n",
    "                while stack:\n",
    "                    x, y = stack.pop()\n",
    "                    if visited[x, y]:\n",
    "                        continue\n",
    "                    visited[x, y] = True\n",
    "                    cluster.append((x, y))\n",
    "                    # Check neighbors\n",
    "                    for dx, dy in [(-1, 0), (1, 0), (0, -1), (0, 1)]:\n",
    "                        nx, ny = (x + dx) % arr_shape[0], (y + dy) % arr_shape[1]\n",
    "                        if binary_array[nx, ny] == 1 and not visited[nx, ny]:\n",
    "                            stack.append((nx, ny))\n",
    "                clusters.append(cluster)\n",
    "\n",
    "    # Check if any of the clusters have cycles\n",
    "    for cluster in clusters:\n",
    "        # Create a set to keep track of visited nodes\n",
    "        visited = set()\n",
    "        stack = [cluster[0]]\n",
    "        while stack:\n",
    "            node = stack.pop()\n",
    "            if node in visited:\n",
    "                # Print the cycle for debugging\n",
    "                # print(\"Cycle detected in cluster:\", cluster)\n",
    "                # Cycle detected\n",
    "                return False, cluster\n",
    "            # Mark the node as visited \n",
    "            visited.add(node)\n",
    "            # Check neighbors\n",
    "            for dx, dy in [(-1, 0), (1, 0), (0, -1), (0, 1)]:\n",
    "                nx, ny = (node[0] + dx) % arr_shape[0], (node[1] + dy) % arr_shape[1]\n",
    "                if (nx, ny) in cluster and (nx, ny) not in visited:\n",
    "                    stack.append((nx, ny))\n",
    "    # If no cycles were found, the state is physical\n",
    "    return True, []\n",
    "\n",
    "\n",
    "\n",
    "# Helper function, to turn a binary string into an array with the shape of the lattice\n",
    "def binary_array_from_list( binary_str: str, lat_shape: tuple):\n",
    "    arr_shape = (lat_shape[1], lat_shape[0])\n",
    "\n",
    "    # Check if the length of the binary string matches the expected size\n",
    "    if len(binary_str) != arr_shape[0] * arr_shape[1]:\n",
    "        raise ValueError(f\"Binary string length {len(binary_str)} does not match expected size {arr_shape[0] * arr_shape[1]}\")\n",
    "    # Check if the binary string contains only 0s and 1s\n",
    "    if not all(bit in '01' for bit in binary_str):\n",
    "        raise ValueError(\"Binary string must contain only 0s and 1s\")\n",
    "    # Convert the string into a list of integers (0s and 1s)\n",
    "    binary_list = [int(bit) for bit in binary_str]\n",
    "\n",
    "    # Convert the list into a NumPy array with the desired shape\n",
    "    binary_array = np.array(binary_list).reshape(arr_shape)\n",
    "\n",
    "    return binary_array"
   ]
  },
  {
   "cell_type": "code",
   "execution_count": 33,
   "id": "f48d2b93",
   "metadata": {},
   "outputs": [],
   "source": [
    "import os\n",
    "import pickle\n",
    "from tqdm import tqdm"
   ]
  },
  {
   "cell_type": "code",
   "execution_count": 34,
   "id": "f03c8ff8",
   "metadata": {},
   "outputs": [
    {
     "name": "stdout",
     "output_type": "stream",
     "text": [
      "Dictionary loaded from is_physical_dict.pkl\n"
     ]
    }
   ],
   "source": [
    "def load_is_physical_dict(filename):\n",
    "    if os.path.exists(filename):\n",
    "        with open(filename, 'rb') as f:\n",
    "            is_physical_dict = pickle.load(f)\n",
    "        print(f\"Dictionary loaded from {filename}\")\n",
    "        return is_physical_dict\n",
    "    else:\n",
    "        print(f\"File {filename} does not exist.\")\n",
    "        return None\n",
    "\n",
    "\n",
    "\n",
    "def save_is_physical_dict(filename, is_physical_dict):\n",
    "    with open(filename, 'wb') as f:\n",
    "        pickle.dump(is_physical_dict, f)\n",
    "    print(f\"Dictionary saved to {filename}\")\n",
    "\n",
    "\n",
    "# Load the dictionary if it exists, otherwise create it\n",
    "filename = \"is_physical_dict.pkl\"\n",
    "is_physical_dict = load_is_physical_dict(filename)\n",
    "# If the dictionary is None, create it\n",
    "if is_physical_dict is None:\n",
    "    is_physical_dict = {}\n",
    "    # Loop through all possible lattice shapes of interest\n",
    "    for L in tqdm(range(2, 5)):\n",
    "        for H in range(L, 6):\n",
    "            lat_shape = (L, H)\n",
    "            n = L*H  # number of bits in the original string\n",
    "\n",
    "            # Loop through all possible binary strings\n",
    "            for i in range(2**n):\n",
    "                binary_str = format(i, f\"0{n}b\")  # convert to binary and pad with zeros\n",
    "                is_physical, cluster = is_physical_state(binary_str, lat_shape)\n",
    "                is_physical_dict[(binary_str, lat_shape)] = is_physical\n",
    "    # Save the dictionary to a file\n",
    "    save_is_physical_dict(filename, is_physical_dict)\n",
    "\n",
    "\n",
    "\n",
    "# Create a function that takes in a state vector and a lattice shape, and returns whether the state is physical or not\n",
    "def is_physical_state_from_vector(state_vector, lat_shape):\n",
    "    n = int(np.log2(len(state_vector)))\n",
    "    if n != lat_shape[0] * lat_shape[1]:\n",
    "        raise ValueError(f\"State vector length {len(state_vector)} does not match expected size {lat_shape[0] * lat_shape[1]}\")\n",
    "    \n",
    "    # Check if the dictionary is loaded\n",
    "    if is_physical_dict is None:\n",
    "        raise ValueError(\"is_physical_dict is not loaded. Please load it first.\")\n",
    "\n",
    "    # For each nonzero entry in the state vector, check if the corresponding binary string is in the dictionary\n",
    "    for i in range(len(state_vector)):\n",
    "        if np.abs(state_vector[i]) >= 0.000001:\n",
    "            binary_str = format(i, f\"0{n}b\")  # convert to binary and pad with zeros\n",
    "            if (binary_str, lat_shape) in is_physical_dict:\n",
    "                if is_physical_dict[(binary_str, lat_shape)]:\n",
    "                    continue\n",
    "                else:\n",
    "                    return False\n",
    "            else:\n",
    "                raise ValueError(f\"Binary string {binary_str} not found in the dictionary for lattice shape {lat_shape}\")\n",
    "    return True\n",
    "            "
   ]
  },
  {
   "cell_type": "markdown",
   "id": "102ed5e8",
   "metadata": {},
   "source": [
    "### The variational vacuum is physical:\n",
    "\n",
    "From pen-and-paper, the variational state should be physical, even after using a trotterized ansatz. We can confirm this explicitly here:"
   ]
  },
  {
   "cell_type": "code",
   "execution_count": 35,
   "id": "bd6dae4b",
   "metadata": {},
   "outputs": [
    {
     "data": {
      "text/plain": [
       "True"
      ]
     },
     "execution_count": 35,
     "metadata": {},
     "output_type": "execute_result"
    }
   ],
   "source": [
    "is_physical_state_from_vector(new_state.toarray(), lat_shape)"
   ]
  },
  {
   "cell_type": "markdown",
   "id": "0ce3a822",
   "metadata": {},
   "source": [
    "## Fidelity as a function of coupling"
   ]
  },
  {
   "cell_type": "code",
   "execution_count": null,
   "id": "e541b8c5",
   "metadata": {},
   "outputs": [],
   "source": []
  },
  {
   "cell_type": "code",
   "execution_count": 39,
   "id": "a329299e",
   "metadata": {},
   "outputs": [
    {
     "ename": "IndexError",
     "evalue": "index 0 is out of bounds for axis 0 with size 0",
     "output_type": "error",
     "traceback": [
      "\u001b[0;31m---------------------------------------------------------------------------\u001b[0m",
      "\u001b[0;31mIndexError\u001b[0m                                Traceback (most recent call last)",
      "\u001b[0;32m/var/folders/v0/js0jgvnn1h38v53q56d24prm0000gn/T/ipykernel_53609/4035778085.py\u001b[0m in \u001b[0;36m<module>\u001b[0;34m\u001b[0m\n\u001b[1;32m     19\u001b[0m \u001b[0;32mfor\u001b[0m \u001b[0mg\u001b[0m \u001b[0;32min\u001b[0m \u001b[0mg_values\u001b[0m\u001b[0;34m:\u001b[0m\u001b[0;34m\u001b[0m\u001b[0;34m\u001b[0m\u001b[0m\n\u001b[1;32m     20\u001b[0m     \u001b[0mground_state\u001b[0m \u001b[0;34m=\u001b[0m \u001b[0mget_ground_state\u001b[0m\u001b[0;34m(\u001b[0m\u001b[0mg\u001b[0m\u001b[0;34m,\u001b[0m \u001b[0mlat_shape\u001b[0m\u001b[0;34m,\u001b[0m \u001b[0mboundary\u001b[0m\u001b[0;34m,\u001b[0m \u001b[0mN_colors\u001b[0m\u001b[0;34m)\u001b[0m\u001b[0;34m\u001b[0m\u001b[0;34m\u001b[0m\u001b[0m\n\u001b[0;32m---> 21\u001b[0;31m     \u001b[0menergies\u001b[0m\u001b[0;34m,\u001b[0m \u001b[0mindices\u001b[0m\u001b[0;34m,\u001b[0m \u001b[0mepss\u001b[0m\u001b[0;34m,\u001b[0m \u001b[0mnew_state\u001b[0m \u001b[0;34m=\u001b[0m \u001b[0madapt_vqe\u001b[0m\u001b[0;34m(\u001b[0m\u001b[0mg\u001b[0m\u001b[0;34m,\u001b[0m \u001b[0mlat_shape\u001b[0m\u001b[0;34m,\u001b[0m \u001b[0mboundary\u001b[0m\u001b[0;34m,\u001b[0m \u001b[0mN_colors\u001b[0m\u001b[0;34m,\u001b[0m \u001b[0mop_pool\u001b[0m\u001b[0;34m,\u001b[0m \u001b[0mdelta_E\u001b[0m\u001b[0;34m)\u001b[0m\u001b[0;34m\u001b[0m\u001b[0;34m\u001b[0m\u001b[0m\n\u001b[0m\u001b[1;32m     22\u001b[0m     \u001b[0mfidelity_value\u001b[0m \u001b[0;34m=\u001b[0m \u001b[0mfidelity\u001b[0m\u001b[0;34m(\u001b[0m\u001b[0mnew_state\u001b[0m\u001b[0;34m,\u001b[0m \u001b[0mground_state\u001b[0m\u001b[0;34m)\u001b[0m\u001b[0;34m\u001b[0m\u001b[0;34m\u001b[0m\u001b[0m\n\u001b[1;32m     23\u001b[0m     \u001b[0mfidelities\u001b[0m\u001b[0;34m.\u001b[0m\u001b[0mappend\u001b[0m\u001b[0;34m(\u001b[0m\u001b[0mfidelity_value\u001b[0m\u001b[0;34m)\u001b[0m\u001b[0;34m\u001b[0m\u001b[0;34m\u001b[0m\u001b[0m\n",
      "\u001b[0;32m/var/folders/v0/js0jgvnn1h38v53q56d24prm0000gn/T/ipykernel_53609/3097985304.py\u001b[0m in \u001b[0;36madapt_vqe\u001b[0;34m(g, lat_shape, boundary, N_colors, op_pool_names, delta_E)\u001b[0m\n\u001b[1;32m     17\u001b[0m \u001b[0;34m\u001b[0m\u001b[0m\n\u001b[1;32m     18\u001b[0m     \u001b[0;32mwhile\u001b[0m \u001b[0;32mTrue\u001b[0m\u001b[0;34m:\u001b[0m\u001b[0;34m\u001b[0m\u001b[0;34m\u001b[0m\u001b[0m\n\u001b[0;32m---> 19\u001b[0;31m         \u001b[0mnew_indices\u001b[0m\u001b[0;34m,\u001b[0m \u001b[0mnew_state\u001b[0m\u001b[0;34m,\u001b[0m \u001b[0mopt_epss\u001b[0m\u001b[0;34m,\u001b[0m \u001b[0mnew_energy\u001b[0m \u001b[0;34m=\u001b[0m \u001b[0mopt_step\u001b[0m\u001b[0;34m(\u001b[0m\u001b[0mnew_state\u001b[0m\u001b[0;34m,\u001b[0m \u001b[0mopt_epss\u001b[0m\u001b[0;34m,\u001b[0m \u001b[0mnew_indices\u001b[0m\u001b[0;34m,\u001b[0m \u001b[0mH\u001b[0m\u001b[0;34m,\u001b[0m \u001b[0mlat_shape\u001b[0m\u001b[0;34m,\u001b[0m \u001b[0mcommutator_pool\u001b[0m\u001b[0;34m,\u001b[0m \u001b[0mpsi_0\u001b[0m\u001b[0;34m,\u001b[0m \u001b[0mimag_operator_pool\u001b[0m\u001b[0;34m)\u001b[0m\u001b[0;34m\u001b[0m\u001b[0;34m\u001b[0m\u001b[0m\n\u001b[0m\u001b[1;32m     20\u001b[0m         \u001b[0mindices\u001b[0m\u001b[0;34m.\u001b[0m\u001b[0mappend\u001b[0m\u001b[0;34m(\u001b[0m \u001b[0mnew_indices\u001b[0m\u001b[0;34m[\u001b[0m\u001b[0;34m-\u001b[0m\u001b[0;36m1\u001b[0m\u001b[0;34m]\u001b[0m \u001b[0;34m)\u001b[0m\u001b[0;34m\u001b[0m\u001b[0;34m\u001b[0m\u001b[0m\n\u001b[1;32m     21\u001b[0m         \u001b[0mepss\u001b[0m\u001b[0;34m.\u001b[0m\u001b[0mappend\u001b[0m\u001b[0;34m(\u001b[0m \u001b[0mopt_epss\u001b[0m \u001b[0;34m)\u001b[0m\u001b[0;34m\u001b[0m\u001b[0;34m\u001b[0m\u001b[0m\n",
      "\u001b[0;32m/var/folders/v0/js0jgvnn1h38v53q56d24prm0000gn/T/ipykernel_53609/2000860235.py\u001b[0m in \u001b[0;36mopt_step\u001b[0;34m(psi_prev, epss_prev, indices_prev, H, lat_shape, commutator_pool, psi_0, imag_operator_pool)\u001b[0m\n\u001b[1;32m      3\u001b[0m \u001b[0;34m\u001b[0m\u001b[0m\n\u001b[1;32m      4\u001b[0m     \u001b[0mips\u001b[0m \u001b[0;34m=\u001b[0m \u001b[0mnp\u001b[0m\u001b[0;34m.\u001b[0m\u001b[0marray\u001b[0m\u001b[0;34m(\u001b[0m\u001b[0;34m[\u001b[0m\u001b[0mexpectation_value\u001b[0m\u001b[0;34m(\u001b[0m\u001b[0mpsi_prev\u001b[0m\u001b[0;34m,\u001b[0m \u001b[0mop\u001b[0m\u001b[0;34m)\u001b[0m \u001b[0;32mfor\u001b[0m \u001b[0mop\u001b[0m \u001b[0;32min\u001b[0m \u001b[0mcommutator_pool\u001b[0m\u001b[0;34m]\u001b[0m\u001b[0;34m)\u001b[0m\u001b[0;34m\u001b[0m\u001b[0;34m\u001b[0m\u001b[0m\n\u001b[0;32m----> 5\u001b[0;31m     \u001b[0mmin_index\u001b[0m \u001b[0;34m=\u001b[0m \u001b[0mrandom\u001b[0m\u001b[0;34m.\u001b[0m\u001b[0mchoice\u001b[0m\u001b[0;34m(\u001b[0m\u001b[0mnp\u001b[0m\u001b[0;34m.\u001b[0m\u001b[0mwhere\u001b[0m\u001b[0;34m(\u001b[0m\u001b[0mips\u001b[0m \u001b[0;34m==\u001b[0m \u001b[0mnp\u001b[0m\u001b[0;34m.\u001b[0m\u001b[0mmax\u001b[0m\u001b[0;34m(\u001b[0m\u001b[0mnp\u001b[0m\u001b[0;34m.\u001b[0m\u001b[0mabs\u001b[0m\u001b[0;34m(\u001b[0m\u001b[0mips\u001b[0m\u001b[0;34m)\u001b[0m\u001b[0;34m)\u001b[0m\u001b[0;34m)\u001b[0m\u001b[0;34m[\u001b[0m\u001b[0;36m0\u001b[0m\u001b[0;34m]\u001b[0m\u001b[0;34m)\u001b[0m\u001b[0;34m\u001b[0m\u001b[0;34m\u001b[0m\u001b[0m\n\u001b[0m\u001b[1;32m      6\u001b[0m     \u001b[0mnew_indices\u001b[0m \u001b[0;34m=\u001b[0m \u001b[0mnp\u001b[0m\u001b[0;34m.\u001b[0m\u001b[0mappend\u001b[0m\u001b[0;34m(\u001b[0m \u001b[0mindices_prev\u001b[0m\u001b[0;34m.\u001b[0m\u001b[0mastype\u001b[0m\u001b[0;34m(\u001b[0m\u001b[0mint\u001b[0m\u001b[0;34m)\u001b[0m\u001b[0;34m,\u001b[0m \u001b[0mint\u001b[0m\u001b[0;34m(\u001b[0m\u001b[0mmin_index\u001b[0m\u001b[0;34m)\u001b[0m \u001b[0;34m)\u001b[0m\u001b[0;34m\u001b[0m\u001b[0;34m\u001b[0m\u001b[0m\n\u001b[1;32m      7\u001b[0m     \u001b[0mnew_epss\u001b[0m \u001b[0;34m=\u001b[0m \u001b[0mnp\u001b[0m\u001b[0;34m.\u001b[0m\u001b[0mappend\u001b[0m\u001b[0;34m(\u001b[0m\u001b[0mepss_prev\u001b[0m\u001b[0;34m,\u001b[0m \u001b[0;36m0.01\u001b[0m\u001b[0;34m)\u001b[0m\u001b[0;34m\u001b[0m\u001b[0;34m\u001b[0m\u001b[0m\n",
      "\u001b[0;32m~/opt/anaconda3/lib/python3.9/random.py\u001b[0m in \u001b[0;36mchoice\u001b[0;34m(self, seq)\u001b[0m\n\u001b[1;32m    344\u001b[0m         \u001b[0;34m\"\"\"Choose a random element from a non-empty sequence.\"\"\"\u001b[0m\u001b[0;34m\u001b[0m\u001b[0;34m\u001b[0m\u001b[0m\n\u001b[1;32m    345\u001b[0m         \u001b[0;31m# raises IndexError if seq is empty\u001b[0m\u001b[0;34m\u001b[0m\u001b[0;34m\u001b[0m\u001b[0m\n\u001b[0;32m--> 346\u001b[0;31m         \u001b[0;32mreturn\u001b[0m \u001b[0mseq\u001b[0m\u001b[0;34m[\u001b[0m\u001b[0mself\u001b[0m\u001b[0;34m.\u001b[0m\u001b[0m_randbelow\u001b[0m\u001b[0;34m(\u001b[0m\u001b[0mlen\u001b[0m\u001b[0;34m(\u001b[0m\u001b[0mseq\u001b[0m\u001b[0;34m)\u001b[0m\u001b[0;34m)\u001b[0m\u001b[0;34m]\u001b[0m\u001b[0;34m\u001b[0m\u001b[0;34m\u001b[0m\u001b[0m\n\u001b[0m\u001b[1;32m    347\u001b[0m \u001b[0;34m\u001b[0m\u001b[0m\n\u001b[1;32m    348\u001b[0m     \u001b[0;32mdef\u001b[0m \u001b[0mshuffle\u001b[0m\u001b[0;34m(\u001b[0m\u001b[0mself\u001b[0m\u001b[0;34m,\u001b[0m \u001b[0mx\u001b[0m\u001b[0;34m,\u001b[0m \u001b[0mrandom\u001b[0m\u001b[0;34m=\u001b[0m\u001b[0;32mNone\u001b[0m\u001b[0;34m)\u001b[0m\u001b[0;34m:\u001b[0m\u001b[0;34m\u001b[0m\u001b[0;34m\u001b[0m\u001b[0m\n",
      "\u001b[0;31mIndexError\u001b[0m: index 0 is out of bounds for axis 0 with size 0"
     ]
    }
   ],
   "source": [
    "# Scan over a range of g values, and compute the fidelity of the ground state in each case\n",
    "g_values = np.linspace(0.4, 2, 10)\n",
    "fidelities = []\n",
    "\n",
    "'''\n",
    "input data\n",
    "'''\n",
    "lat_shape = (3,3)\n",
    "boundary=\"periodic\"\n",
    "N_colors = 3\n",
    "\n",
    "\n",
    "'''\n",
    "hyper-parameters\n",
    "'''\n",
    "op_pool =[\"P0P0P0P0Y\", \"P0P0P0P1Y\"]\n",
    "delta_E = 0.01\n",
    "\n",
    "for g in g_values:\n",
    "    ground_state = get_ground_state(g, lat_shape, boundary, N_colors)\n",
    "    energies, indices, epss, new_state = adapt_vqe(g, lat_shape, boundary, N_colors, op_pool, delta_E)\n",
    "    fidelity_value = fidelity(new_state, ground_state)\n",
    "    fidelities.append(fidelity_value)\n",
    "    print(f\"g: {g}, Fidelity: {fidelity_value}\")\n",
    "    "
   ]
  },
  {
   "cell_type": "code",
   "execution_count": 43,
   "id": "309fdac5",
   "metadata": {},
   "outputs": [
    {
     "ename": "IndexError",
     "evalue": "index 0 is out of bounds for axis 0 with size 0",
     "output_type": "error",
     "traceback": [
      "\u001b[0;31m---------------------------------------------------------------------------\u001b[0m",
      "\u001b[0;31mIndexError\u001b[0m                                Traceback (most recent call last)",
      "\u001b[0;32m/var/folders/v0/js0jgvnn1h38v53q56d24prm0000gn/T/ipykernel_53609/957602375.py\u001b[0m in \u001b[0;36m<module>\u001b[0;34m\u001b[0m\n\u001b[1;32m     19\u001b[0m \u001b[0;34m\u001b[0m\u001b[0m\n\u001b[1;32m     20\u001b[0m \u001b[0mground_state\u001b[0m \u001b[0;34m=\u001b[0m \u001b[0mget_ground_state\u001b[0m\u001b[0;34m(\u001b[0m\u001b[0mg\u001b[0m\u001b[0;34m,\u001b[0m \u001b[0mlat_shape\u001b[0m\u001b[0;34m,\u001b[0m \u001b[0mboundary\u001b[0m\u001b[0;34m,\u001b[0m \u001b[0mN_colors\u001b[0m\u001b[0;34m)\u001b[0m\u001b[0;34m\u001b[0m\u001b[0;34m\u001b[0m\u001b[0m\n\u001b[0;32m---> 21\u001b[0;31m \u001b[0menergies\u001b[0m\u001b[0;34m,\u001b[0m \u001b[0mindices\u001b[0m\u001b[0;34m,\u001b[0m \u001b[0mepss\u001b[0m\u001b[0;34m,\u001b[0m \u001b[0mnew_state\u001b[0m \u001b[0;34m=\u001b[0m \u001b[0madapt_vqe_trotterized\u001b[0m\u001b[0;34m(\u001b[0m\u001b[0mg\u001b[0m\u001b[0;34m,\u001b[0m \u001b[0mlat_shape\u001b[0m\u001b[0;34m,\u001b[0m \u001b[0mboundary\u001b[0m\u001b[0;34m,\u001b[0m \u001b[0mN_colors\u001b[0m\u001b[0;34m,\u001b[0m \u001b[0mop_pool\u001b[0m\u001b[0;34m,\u001b[0m \u001b[0mdelta_E\u001b[0m\u001b[0;34m)\u001b[0m\u001b[0;34m\u001b[0m\u001b[0;34m\u001b[0m\u001b[0m\n\u001b[0m\u001b[1;32m     22\u001b[0m \u001b[0mfidelity_value\u001b[0m \u001b[0;34m=\u001b[0m \u001b[0mfidelity\u001b[0m\u001b[0;34m(\u001b[0m\u001b[0mnew_state\u001b[0m\u001b[0;34m,\u001b[0m \u001b[0mground_state\u001b[0m\u001b[0;34m)\u001b[0m\u001b[0;34m\u001b[0m\u001b[0;34m\u001b[0m\u001b[0m\n\u001b[1;32m     23\u001b[0m \u001b[0mprint\u001b[0m\u001b[0;34m(\u001b[0m\u001b[0;34mf\"g: {g}, Fidelity: {fidelity_value}\"\u001b[0m\u001b[0;34m)\u001b[0m\u001b[0;34m\u001b[0m\u001b[0;34m\u001b[0m\u001b[0m\n",
      "\u001b[0;32m/var/folders/v0/js0jgvnn1h38v53q56d24prm0000gn/T/ipykernel_53609/1955912902.py\u001b[0m in \u001b[0;36madapt_vqe_trotterized\u001b[0;34m(g, lat_shape, boundary, N_colors, op_pool_names, delta_E)\u001b[0m\n\u001b[1;32m     17\u001b[0m \u001b[0;34m\u001b[0m\u001b[0m\n\u001b[1;32m     18\u001b[0m     \u001b[0;32mwhile\u001b[0m \u001b[0;32mTrue\u001b[0m\u001b[0;34m:\u001b[0m\u001b[0;34m\u001b[0m\u001b[0;34m\u001b[0m\u001b[0m\n\u001b[0;32m---> 19\u001b[0;31m         \u001b[0mnew_indices\u001b[0m\u001b[0;34m,\u001b[0m \u001b[0mnew_state\u001b[0m\u001b[0;34m,\u001b[0m \u001b[0mopt_epss\u001b[0m\u001b[0;34m,\u001b[0m \u001b[0mnew_energy\u001b[0m \u001b[0;34m=\u001b[0m \u001b[0mopt_step_trotterized\u001b[0m\u001b[0;34m(\u001b[0m\u001b[0mnew_state\u001b[0m\u001b[0;34m,\u001b[0m \u001b[0mopt_epss\u001b[0m\u001b[0;34m,\u001b[0m \u001b[0mnew_indices\u001b[0m\u001b[0;34m,\u001b[0m \u001b[0mH\u001b[0m\u001b[0;34m,\u001b[0m \u001b[0mlat_shape\u001b[0m\u001b[0;34m,\u001b[0m \u001b[0mcommutator_pool\u001b[0m\u001b[0;34m,\u001b[0m \u001b[0mpsi_0\u001b[0m\u001b[0;34m,\u001b[0m \u001b[0mop_pool_names\u001b[0m\u001b[0;34m)\u001b[0m\u001b[0;34m\u001b[0m\u001b[0;34m\u001b[0m\u001b[0m\n\u001b[0m\u001b[1;32m     20\u001b[0m         \u001b[0mindices\u001b[0m\u001b[0;34m.\u001b[0m\u001b[0mappend\u001b[0m\u001b[0;34m(\u001b[0m \u001b[0mnew_indices\u001b[0m\u001b[0;34m[\u001b[0m\u001b[0;34m-\u001b[0m\u001b[0;36m1\u001b[0m\u001b[0;34m]\u001b[0m \u001b[0;34m)\u001b[0m\u001b[0;34m\u001b[0m\u001b[0;34m\u001b[0m\u001b[0m\n\u001b[1;32m     21\u001b[0m         \u001b[0mepss\u001b[0m\u001b[0;34m.\u001b[0m\u001b[0mappend\u001b[0m\u001b[0;34m(\u001b[0m \u001b[0mopt_epss\u001b[0m \u001b[0;34m)\u001b[0m\u001b[0;34m\u001b[0m\u001b[0;34m\u001b[0m\u001b[0m\n",
      "\u001b[0;32m/var/folders/v0/js0jgvnn1h38v53q56d24prm0000gn/T/ipykernel_53609/226312973.py\u001b[0m in \u001b[0;36mopt_step_trotterized\u001b[0;34m(psi_prev, epss_prev, indices_prev, H, lat_shape, commutator_pool, psi_0, op_pool_names)\u001b[0m\n\u001b[1;32m      2\u001b[0m     \u001b[0mn\u001b[0m \u001b[0;34m=\u001b[0m \u001b[0mlat_shape\u001b[0m\u001b[0;34m[\u001b[0m\u001b[0;36m0\u001b[0m\u001b[0;34m]\u001b[0m\u001b[0;34m*\u001b[0m\u001b[0mlat_shape\u001b[0m\u001b[0;34m[\u001b[0m\u001b[0;36m1\u001b[0m\u001b[0;34m]\u001b[0m\u001b[0;34m\u001b[0m\u001b[0;34m\u001b[0m\u001b[0m\n\u001b[1;32m      3\u001b[0m     \u001b[0mips\u001b[0m \u001b[0;34m=\u001b[0m \u001b[0mnp\u001b[0m\u001b[0;34m.\u001b[0m\u001b[0marray\u001b[0m\u001b[0;34m(\u001b[0m\u001b[0;34m[\u001b[0m\u001b[0mexpectation_value\u001b[0m\u001b[0;34m(\u001b[0m\u001b[0mpsi_prev\u001b[0m\u001b[0;34m,\u001b[0m \u001b[0mop\u001b[0m\u001b[0;34m)\u001b[0m \u001b[0;32mfor\u001b[0m \u001b[0mop\u001b[0m \u001b[0;32min\u001b[0m \u001b[0mcommutator_pool\u001b[0m\u001b[0;34m]\u001b[0m\u001b[0;34m)\u001b[0m\u001b[0;34m\u001b[0m\u001b[0;34m\u001b[0m\u001b[0m\n\u001b[0;32m----> 4\u001b[0;31m     \u001b[0mmin_index\u001b[0m \u001b[0;34m=\u001b[0m \u001b[0mrandom\u001b[0m\u001b[0;34m.\u001b[0m\u001b[0mchoice\u001b[0m\u001b[0;34m(\u001b[0m\u001b[0mnp\u001b[0m\u001b[0;34m.\u001b[0m\u001b[0mwhere\u001b[0m\u001b[0;34m(\u001b[0m\u001b[0mips\u001b[0m \u001b[0;34m==\u001b[0m \u001b[0mnp\u001b[0m\u001b[0;34m.\u001b[0m\u001b[0mmax\u001b[0m\u001b[0;34m(\u001b[0m\u001b[0mnp\u001b[0m\u001b[0;34m.\u001b[0m\u001b[0mabs\u001b[0m\u001b[0;34m(\u001b[0m\u001b[0mips\u001b[0m\u001b[0;34m)\u001b[0m\u001b[0;34m)\u001b[0m\u001b[0;34m)\u001b[0m\u001b[0;34m[\u001b[0m\u001b[0;36m0\u001b[0m\u001b[0;34m]\u001b[0m\u001b[0;34m)\u001b[0m\u001b[0;34m\u001b[0m\u001b[0;34m\u001b[0m\u001b[0m\n\u001b[0m\u001b[1;32m      5\u001b[0m     \u001b[0mnew_indices\u001b[0m \u001b[0;34m=\u001b[0m \u001b[0mnp\u001b[0m\u001b[0;34m.\u001b[0m\u001b[0mappend\u001b[0m\u001b[0;34m(\u001b[0m \u001b[0mindices_prev\u001b[0m\u001b[0;34m.\u001b[0m\u001b[0mastype\u001b[0m\u001b[0;34m(\u001b[0m\u001b[0mint\u001b[0m\u001b[0;34m)\u001b[0m\u001b[0;34m,\u001b[0m \u001b[0mint\u001b[0m\u001b[0;34m(\u001b[0m\u001b[0mmin_index\u001b[0m\u001b[0;34m)\u001b[0m \u001b[0;34m)\u001b[0m\u001b[0;34m\u001b[0m\u001b[0;34m\u001b[0m\u001b[0m\n\u001b[1;32m      6\u001b[0m     \u001b[0mnew_epss\u001b[0m \u001b[0;34m=\u001b[0m \u001b[0mnp\u001b[0m\u001b[0;34m.\u001b[0m\u001b[0mappend\u001b[0m\u001b[0;34m(\u001b[0m\u001b[0mepss_prev\u001b[0m\u001b[0;34m,\u001b[0m \u001b[0;36m0.01\u001b[0m\u001b[0;34m)\u001b[0m\u001b[0;34m\u001b[0m\u001b[0;34m\u001b[0m\u001b[0m\n",
      "\u001b[0;32m~/opt/anaconda3/lib/python3.9/random.py\u001b[0m in \u001b[0;36mchoice\u001b[0;34m(self, seq)\u001b[0m\n\u001b[1;32m    344\u001b[0m         \u001b[0;34m\"\"\"Choose a random element from a non-empty sequence.\"\"\"\u001b[0m\u001b[0;34m\u001b[0m\u001b[0;34m\u001b[0m\u001b[0m\n\u001b[1;32m    345\u001b[0m         \u001b[0;31m# raises IndexError if seq is empty\u001b[0m\u001b[0;34m\u001b[0m\u001b[0;34m\u001b[0m\u001b[0m\n\u001b[0;32m--> 346\u001b[0;31m         \u001b[0;32mreturn\u001b[0m \u001b[0mseq\u001b[0m\u001b[0;34m[\u001b[0m\u001b[0mself\u001b[0m\u001b[0;34m.\u001b[0m\u001b[0m_randbelow\u001b[0m\u001b[0;34m(\u001b[0m\u001b[0mlen\u001b[0m\u001b[0;34m(\u001b[0m\u001b[0mseq\u001b[0m\u001b[0;34m)\u001b[0m\u001b[0;34m)\u001b[0m\u001b[0;34m]\u001b[0m\u001b[0;34m\u001b[0m\u001b[0;34m\u001b[0m\u001b[0m\n\u001b[0m\u001b[1;32m    347\u001b[0m \u001b[0;34m\u001b[0m\u001b[0m\n\u001b[1;32m    348\u001b[0m     \u001b[0;32mdef\u001b[0m \u001b[0mshuffle\u001b[0m\u001b[0;34m(\u001b[0m\u001b[0mself\u001b[0m\u001b[0;34m,\u001b[0m \u001b[0mx\u001b[0m\u001b[0;34m,\u001b[0m \u001b[0mrandom\u001b[0m\u001b[0;34m=\u001b[0m\u001b[0;32mNone\u001b[0m\u001b[0;34m)\u001b[0m\u001b[0;34m:\u001b[0m\u001b[0;34m\u001b[0m\u001b[0;34m\u001b[0m\u001b[0m\n",
      "\u001b[0;31mIndexError\u001b[0m: index 0 is out of bounds for axis 0 with size 0"
     ]
    }
   ],
   "source": [
    "# Scan over a range of g values, and compute the fidelity of the ground state in each case\n",
    "#g_values = np.linspace(0.4, 2, 10)\n",
    "#fidelities = []\n",
    "\n",
    "'''\n",
    "input data\n",
    "'''\n",
    "g = 0.4\n",
    "lat_shape = (3,3)\n",
    "boundary=\"periodic\"\n",
    "N_colors = 3\n",
    "\n",
    "\n",
    "'''\n",
    "hyper-parameters\n",
    "'''\n",
    "op_pool =[\"P0P0P0P0Y\", \"P0P0P0P1Y\"]\n",
    "delta_E = 0.01\n",
    "\n",
    "ground_state = get_ground_state(g, lat_shape, boundary, N_colors)\n",
    "energies, indices, epss, new_state = adapt_vqe_trotterized(g, lat_shape, boundary, N_colors, op_pool, delta_E)\n",
    "fidelity_value = fidelity(new_state, ground_state)\n",
    "print(f\"g: {g}, Fidelity: {fidelity_value}\")\n",
    "    "
   ]
  },
  {
   "cell_type": "code",
   "execution_count": null,
   "id": "03286b70",
   "metadata": {},
   "outputs": [],
   "source": []
  }
 ],
 "metadata": {
  "kernelspec": {
   "display_name": "base",
   "language": "python",
   "name": "python3"
  },
  "language_info": {
   "codemirror_mode": {
    "name": "ipython",
    "version": 3
   },
   "file_extension": ".py",
   "mimetype": "text/x-python",
   "name": "python",
   "nbconvert_exporter": "python",
   "pygments_lexer": "ipython3",
   "version": "3.9.13"
  }
 },
 "nbformat": 4,
 "nbformat_minor": 5
}
